{
 "cells": [
  {
   "cell_type": "code",
   "execution_count": 9,
   "metadata": {},
   "outputs": [],
   "source": [
    "import pandas as pd\n",
    "import jieba,jieba.analyse\n",
    "from stylecloud import gen_stylecloud\n"
   ]
  },
  {
   "cell_type": "code",
   "execution_count": 10,
   "metadata": {},
   "outputs": [],
   "source": [
    "\n",
    "df=pd.read_csv(r'../neiyi.csv',encoding='gbk')\n",
    "df.columns=['商品标题']"
   ]
  },
  {
   "cell_type": "code",
   "execution_count": 11,
   "metadata": {},
   "outputs": [
    {
     "name": "stderr",
     "output_type": "stream",
     "text": [
      "Building prefix dict from the default dictionary ...\n",
      "Loading model from cache C:\\Users\\奉华\\AppData\\Local\\Temp\\jieba.cache\n",
      "Loading model cost 1.039 seconds.\n",
      "Prefix dict has been built successfully.\n"
     ]
    },
    {
     "data": {
      "text/plain": [
       "[('文胸', 0.6929854593236946),\n",
       " ('钢圈', 0.5086033949532615),\n",
       " ('内衣', 0.5036681765453832),\n",
       " ('胸罩', 0.4781765502581382),\n",
       " ('聚拢', 0.34355435187285216),\n",
       " ('质保', 0.29432423985586664),\n",
       " ('退换', 0.2428227686405772),\n",
       " ('无理', 0.2303918681498793),\n",
       " ('SHANCHAO', 0.22236944501585107),\n",
       " ('蕾丝', 0.2177159738197047),\n",
       " ('品质', 0.2134335381317016),\n",
       " ('无忧', 0.19221394106872713),\n",
       " ('性感', 0.17282498430785018),\n",
       " ('调整型', 0.16719257226154421),\n",
       " ('购物', 0.16650829726554106),\n",
       " ('整型', 0.15429000085153755),\n",
       " ('保障', 0.1532876320497859),\n",
       " ('理由', 0.14930448586457962),\n",
       " ('套装', 0.1432483992961241),\n",
       " ('支持', 0.12182273907298947),\n",
       " ('尺码', 0.1207246035332425),\n",
       " ('少女', 0.0843237607456862),\n",
       " ('背心', 0.07999622770438969),\n",
       " ('下垂', 0.07486344796028443),\n",
       " ('调整', 0.07012641244572096),\n",
       " ('超薄', 0.05736257992545738),\n",
       " ('乳胶', 0.05624734026144136),\n",
       " ('胸内', 0.05288845743804704),\n",
       " ('透气', 0.05197682781949064),\n",
       " ('选购', 0.0471293048743074),\n",
       " ('舒适', 0.04682552935867347),\n",
       " ('胸无', 0.044433942808191074),\n",
       " ('抹胸', 0.04425484118738809),\n",
       " ('法式', 0.0433916897507368),\n",
       " ('罩杯', 0.042514445357281876),\n",
       " ('学生', 0.04246426299307123),\n",
       " ('打底', 0.04221480129268198),\n",
       " ('放心', 0.04154833183880276),\n",
       " ('女士', 0.040811732835678134),\n",
       " ('保暖', 0.040324948875569706),\n",
       " ('圈内', 0.038856410981617365),\n",
       " ('购买', 0.03865973054903853),\n",
       " ('夏季', 0.03826106291308458),\n",
       " ('秋衣', 0.037456712119301565),\n",
       " ('运动', 0.03728126466026247),\n",
       " ('常规', 0.03688037354111327),\n",
       " ('角杯', 0.03666275739364678),\n",
       " ('新款', 0.03610344882252432),\n",
       " ('参考', 0.03586985227753768),\n",
       " ('日常', 0.035700009474948)]"
      ]
     },
     "execution_count": 11,
     "metadata": {},
     "output_type": "execute_result"
    }
   ],
   "source": [
    "df2=df['商品标题'].to_list()\n",
    "df3=''.join(df2)\n",
    "df4=jieba.cut(df3,cut_all=True)\n",
    "data=' '.join(df4)\n",
    "extract=jieba.analyse.extract_tags(data,topK=50,withWeight=True)\n",
    "extract"
   ]
  },
  {
   "cell_type": "code",
   "execution_count": 12,
   "metadata": {},
   "outputs": [],
   "source": [
    "cloud=gen_stylecloud(data,custom_stopwords=['质保','退换','无理','SHANCHAO','品质','无忧','购物','保障','理由','支持']\n",
    "                ,size=500,output_name='bra.png',font_path=r'C:\\Windows\\Fonts\\simfang.ttf',icon_name='fas fa-brain')"
   ]
  }
 ],
 "metadata": {
  "interpreter": {
   "hash": "ce036b342934096d91d81c8fc3a322bdcf194e1228eeef07ba3a5ef9e002bc3f"
  },
  "kernelspec": {
   "display_name": "Python 3.7.4 64-bit (system)",
   "language": "python",
   "name": "python3"
  },
  "language_info": {
   "codemirror_mode": {
    "name": "ipython",
    "version": 3
   },
   "file_extension": ".py",
   "mimetype": "text/x-python",
   "name": "python",
   "nbconvert_exporter": "python",
   "pygments_lexer": "ipython3",
   "version": "3.7.4"
  },
  "orig_nbformat": 4
 },
 "nbformat": 4,
 "nbformat_minor": 2
}
